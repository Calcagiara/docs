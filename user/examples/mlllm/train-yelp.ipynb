{
 "cells": [
  {
   "cell_type": "code",
   "execution_count": 2,
   "id": "f7f14071-6919-4dad-a5c0-b7218bfb3848",
   "metadata": {},
   "outputs": [],
   "source": [
    "import digitalhub as dh\n",
    "import pandas as pd\n",
    "import requests\n",
    "import os"
   ]
  },
  {
   "cell_type": "code",
   "execution_count": 3,
   "id": "09595bad-a781-4906-865c-51ac70720b53",
   "metadata": {},
   "outputs": [],
   "source": [
    "PROJECT = \"llm\"\n",
    "project = dh.get_or_create_project(PROJECT)\n"
   ]
  },
  {
   "cell_type": "code",
   "execution_count": 10,
   "id": "6a2bae2e-43a2-4c04-89ad-3d0e167215ad",
   "metadata": {},
   "outputs": [
    {
     "name": "stdout",
     "output_type": "stream",
     "text": [
      "Overwriting src/train_model.py\n"
     ]
    }
   ],
   "source": [
    "%%writefile \"src/train_model.py\"\n",
    "\n",
    "from datasets import load_dataset\n",
    "from transformers import AutoModelForSequenceClassification, TrainingArguments, Trainer, AutoTokenizer\n",
    "import numpy as np\n",
    "import evaluate\n",
    "import os\n",
    "\n",
    "from digitalhub_runtime_python import handler\n",
    "\n",
    "@handler()\n",
    "def train(project):\n",
    "    tokenizer = AutoTokenizer.from_pretrained(\"google-bert/bert-base-cased\")\n",
    "    metric = evaluate.load(\"accuracy\")\n",
    "    \n",
    "    def tokenize_function(examples):\n",
    "        return tokenizer(examples[\"text\"], padding=\"max_length\", truncation=True)\n",
    "    \n",
    "    def compute_metrics(eval_pred):\n",
    "        logits, labels = eval_pred\n",
    "        predictions = np.argmax(logits, axis=-1)\n",
    "        return metric.compute(predictions=predictions, references=labels)\n",
    "    \n",
    "    \n",
    "    dataset = load_dataset(\"yelp_review_full\")\n",
    "    tokenized_datasets = dataset.map(tokenize_function, batched=True)\n",
    "    \n",
    "    model = AutoModelForSequenceClassification.from_pretrained(\"google-bert/bert-base-cased\", num_labels=5)\n",
    "    \n",
    "    training_args = TrainingArguments(output_dir=\"test_trainer\")\n",
    "    \n",
    "    small_train_dataset = tokenized_datasets[\"train\"].shuffle(seed=42).select(range(1000))\n",
    "    small_eval_dataset = tokenized_datasets[\"test\"].shuffle(seed=42).select(range(1000))\n",
    "    \n",
    "    training_args = TrainingArguments(output_dir=\"test_trainer\", eval_strategy=\"epoch\")\n",
    "    \n",
    "    trainer = Trainer(\n",
    "        model=model,\n",
    "        args=training_args,\n",
    "        train_dataset=small_train_dataset,\n",
    "        eval_dataset=small_eval_dataset,\n",
    "        compute_metrics=compute_metrics,\n",
    "    )\n",
    "    \n",
    "    trainer.train()\n",
    "\n",
    "    save_dir = \"model\"\n",
    "    if not os.path.exists(save_dir):\n",
    "        os.makedirs(save_dir)\n",
    "    \n",
    "    trainer.save_model(save_dir)\n",
    "    tokenizer.save_pretrained(save_dir)\n",
    "\n",
    "\n",
    "    project.log_model(\n",
    "            name=\"test_llm_model\", \n",
    "            kind=\"huggingface\", \n",
    "            source=save_dir\n",
    "    )    "
   ]
  },
  {
   "cell_type": "code",
   "execution_count": 11,
   "id": "eab7ca50-5c95-41eb-873c-46723a7a384c",
   "metadata": {},
   "outputs": [],
   "source": [
    "train_func = project.new_function(\n",
    "                         name=\"train_model\",\n",
    "                         kind=\"python\",\n",
    "                         python_version=\"PYTHON3_9\",\n",
    "                         code_src=\"src/train_model.py\",\n",
    "                         handler=\"train\",\n",
    "                         requirements=[\"evaluate\", \"transformers[torch]\", \"torch\", \"torchvision\", \"accelerate\"]\n",
    "                        )"
   ]
  },
  {
   "cell_type": "code",
   "execution_count": 12,
   "id": "7f0c0e57-c92f-4b76-8e30-66496b5e5fe3",
   "metadata": {},
   "outputs": [],
   "source": [
    "train_run=train_func.run(action=\"job\", \n",
    "                         local_execution=False,\n",
    "                         profile=\"template-a100\"\n",
    "                        )"
   ]
  },
  {
   "cell_type": "code",
   "execution_count": 13,
   "id": "d02a5827-764f-407e-9e42-2fb39f455f1f",
   "metadata": {},
   "outputs": [],
   "source": [
    "\n",
    "llm_function = project.new_function(\"llm_classification\", \n",
    "                                   kind=\"huggingfaceserve\",\n",
    "                                   model_name=\"bertmodel\",\n",
    "                                   path=\"s3://datalake/llm/model/test_llm_model/9e53f1f2-8ae9-418a-9af3-1c5f64b19931/\"\n",
    "                                  )\n"
   ]
  },
  {
   "cell_type": "code",
   "execution_count": 14,
   "id": "fb3aa567-d48c-4c9c-8a16-a891561528cd",
   "metadata": {},
   "outputs": [],
   "source": [
    "llm_run = llm_function.run(action=\"serve\", profile=\"template-a100\")"
   ]
  },
  {
   "cell_type": "code",
   "execution_count": null,
   "id": "9c7878e7-273f-4a17-9222-f1afec6955d0",
   "metadata": {},
   "outputs": [],
   "source": [
    "SERVICE_URL = llm_run.refresh().status.to_dict()[\"service\"][\"url\"]\n",
    "MODEL_NAME = \"bertmodel\"\n",
    "\n",
    "with requests.post(f'http://{SERVICE_URL}/v2/models/{MODEL_NAME}/infer', json={\n",
    "    \"inputs\": [\n",
    "        {\n",
    "        \"name\": \"input-0\",\n",
    "        \"shape\": [2],\n",
    "        \"datatype\": \"BYTES\",\n",
    "        \"data\": [\"Hello, my dog is cute\", \"I am feeling sad\"]\n",
    "        }\n",
    "    ]\n",
    "}) as r:\n",
    "    res = r.json()\n",
    "print(res)\n"
   ]
  }
 ],
 "metadata": {
  "kernelspec": {
   "display_name": "Python 3 (ipykernel)",
   "language": "python",
   "name": "python3"
  },
  "language_info": {
   "codemirror_mode": {
    "name": "ipython",
    "version": 3
   },
   "file_extension": ".py",
   "mimetype": "text/x-python",
   "name": "python",
   "nbconvert_exporter": "python",
   "pygments_lexer": "ipython3",
   "version": "3.10.11"
  }
 },
 "nbformat": 4,
 "nbformat_minor": 5
}

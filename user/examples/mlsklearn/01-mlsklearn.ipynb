{
 "cells": [
  {
   "cell_type": "code",
   "execution_count": 1,
   "id": "94c585b9-5534-41b1-9aee-006d5082363e",
   "metadata": {},
   "outputs": [],
   "source": [
    "import digitalhub as dh\n",
    "import pandas as pd\n",
    "import os"
   ]
  },
  {
   "cell_type": "code",
   "execution_count": 2,
   "id": "06ff3f3a-730b-4a21-80f1-c37bc1cc139d",
   "metadata": {},
   "outputs": [],
   "source": [
    "PROJECT = \"demo-ml\"\n",
    "project = dh.get_or_create_project(PROJECT)"
   ]
  },
  {
   "cell_type": "code",
   "execution_count": 3,
   "id": "258d5b9a-97ea-4ea6-9f13-de92138f308c",
   "metadata": {},
   "outputs": [
    {
     "name": "stdout",
     "output_type": "stream",
     "text": [
      "Writing data-prep.py\n"
     ]
    }
   ],
   "source": [
    "%%writefile data-prep.py\n",
    "\n",
    "import pandas as pd\n",
    "from sklearn.datasets import load_breast_cancer\n",
    "\n",
    "from digitalhub_runtime_python import handler\n",
    "\n",
    "@handler(outputs=[\"dataset\"])\n",
    "def breast_cancer_generator():\n",
    "    \"\"\"\n",
    "    A function which generates the breast cancer dataset\n",
    "    \"\"\"\n",
    "    breast_cancer = load_breast_cancer()\n",
    "    breast_cancer_dataset = pd.DataFrame(\n",
    "        data=breast_cancer.data, columns=breast_cancer.feature_names\n",
    "    )\n",
    "    breast_cancer_labels = pd.DataFrame(data=breast_cancer.target, columns=[\"target\"])\n",
    "    breast_cancer_dataset = pd.concat(\n",
    "        [breast_cancer_dataset, breast_cancer_labels], axis=1\n",
    "    )\n",
    "\n",
    "    return breast_cancer_dataset"
   ]
  },
  {
   "cell_type": "code",
   "execution_count": 4,
   "id": "516607a9-50b4-4765-9241-f9ef66fe301d",
   "metadata": {},
   "outputs": [],
   "source": [
    "data_gen_fn = project.new_function(\n",
    "                         name=\"data-prep\",\n",
    "                         kind=\"python\",\n",
    "                         python_version=\"PYTHON3_9\",\n",
    "                         source={\"source\": \"data-prep.py\", \"handler\": \"breast_cancer_generator\"})\n"
   ]
  },
  {
   "cell_type": "code",
   "execution_count": 5,
   "id": "d7640916-2982-4e3e-8de0-a5b1395d6839",
   "metadata": {},
   "outputs": [
    {
     "name": "stderr",
     "output_type": "stream",
     "text": [
      "2024-08-26 11:02:56,622 - INFO - Validating task.\n",
      "2024-08-26 11:02:56,623 - INFO - Validating run.\n",
      "2024-08-26 11:02:56,623 - INFO - Starting task.\n",
      "2024-08-26 11:02:56,624 - INFO - Configuring execution.\n",
      "2024-08-26 11:02:56,949 - INFO - Composing function arguments.\n",
      "2024-08-26 11:02:56,950 - INFO - Executing run.\n",
      "2024-08-26 11:02:57,142 - INFO - Task completed, returning run status.\n"
     ]
    }
   ],
   "source": [
    "gen_data_run = data_gen_fn.run(action=\"job\", outputs={\"dataset\": \"dataset\"}, local_execution=True)"
   ]
  },
  {
   "cell_type": "code",
   "execution_count": 6,
   "id": "ab4a7a55-400a-4bd3-bdf5-8bea5e212353",
   "metadata": {},
   "outputs": [
    {
     "data": {
      "text/html": [
       "<div>\n",
       "<style scoped>\n",
       "    .dataframe tbody tr th:only-of-type {\n",
       "        vertical-align: middle;\n",
       "    }\n",
       "\n",
       "    .dataframe tbody tr th {\n",
       "        vertical-align: top;\n",
       "    }\n",
       "\n",
       "    .dataframe thead th {\n",
       "        text-align: right;\n",
       "    }\n",
       "</style>\n",
       "<table border=\"1\" class=\"dataframe\">\n",
       "  <thead>\n",
       "    <tr style=\"text-align: right;\">\n",
       "      <th></th>\n",
       "      <th>mean radius</th>\n",
       "      <th>mean texture</th>\n",
       "      <th>mean perimeter</th>\n",
       "      <th>mean area</th>\n",
       "      <th>mean smoothness</th>\n",
       "      <th>mean compactness</th>\n",
       "      <th>mean concavity</th>\n",
       "      <th>mean concave points</th>\n",
       "      <th>mean symmetry</th>\n",
       "      <th>mean fractal dimension</th>\n",
       "      <th>...</th>\n",
       "      <th>worst texture</th>\n",
       "      <th>worst perimeter</th>\n",
       "      <th>worst area</th>\n",
       "      <th>worst smoothness</th>\n",
       "      <th>worst compactness</th>\n",
       "      <th>worst concavity</th>\n",
       "      <th>worst concave points</th>\n",
       "      <th>worst symmetry</th>\n",
       "      <th>worst fractal dimension</th>\n",
       "      <th>target</th>\n",
       "    </tr>\n",
       "  </thead>\n",
       "  <tbody>\n",
       "    <tr>\n",
       "      <th>0</th>\n",
       "      <td>17.99</td>\n",
       "      <td>10.38</td>\n",
       "      <td>122.80</td>\n",
       "      <td>1001.0</td>\n",
       "      <td>0.11840</td>\n",
       "      <td>0.27760</td>\n",
       "      <td>0.3001</td>\n",
       "      <td>0.14710</td>\n",
       "      <td>0.2419</td>\n",
       "      <td>0.07871</td>\n",
       "      <td>...</td>\n",
       "      <td>17.33</td>\n",
       "      <td>184.60</td>\n",
       "      <td>2019.0</td>\n",
       "      <td>0.1622</td>\n",
       "      <td>0.6656</td>\n",
       "      <td>0.7119</td>\n",
       "      <td>0.2654</td>\n",
       "      <td>0.4601</td>\n",
       "      <td>0.11890</td>\n",
       "      <td>0</td>\n",
       "    </tr>\n",
       "    <tr>\n",
       "      <th>1</th>\n",
       "      <td>20.57</td>\n",
       "      <td>17.77</td>\n",
       "      <td>132.90</td>\n",
       "      <td>1326.0</td>\n",
       "      <td>0.08474</td>\n",
       "      <td>0.07864</td>\n",
       "      <td>0.0869</td>\n",
       "      <td>0.07017</td>\n",
       "      <td>0.1812</td>\n",
       "      <td>0.05667</td>\n",
       "      <td>...</td>\n",
       "      <td>23.41</td>\n",
       "      <td>158.80</td>\n",
       "      <td>1956.0</td>\n",
       "      <td>0.1238</td>\n",
       "      <td>0.1866</td>\n",
       "      <td>0.2416</td>\n",
       "      <td>0.1860</td>\n",
       "      <td>0.2750</td>\n",
       "      <td>0.08902</td>\n",
       "      <td>0</td>\n",
       "    </tr>\n",
       "    <tr>\n",
       "      <th>2</th>\n",
       "      <td>19.69</td>\n",
       "      <td>21.25</td>\n",
       "      <td>130.00</td>\n",
       "      <td>1203.0</td>\n",
       "      <td>0.10960</td>\n",
       "      <td>0.15990</td>\n",
       "      <td>0.1974</td>\n",
       "      <td>0.12790</td>\n",
       "      <td>0.2069</td>\n",
       "      <td>0.05999</td>\n",
       "      <td>...</td>\n",
       "      <td>25.53</td>\n",
       "      <td>152.50</td>\n",
       "      <td>1709.0</td>\n",
       "      <td>0.1444</td>\n",
       "      <td>0.4245</td>\n",
       "      <td>0.4504</td>\n",
       "      <td>0.2430</td>\n",
       "      <td>0.3613</td>\n",
       "      <td>0.08758</td>\n",
       "      <td>0</td>\n",
       "    </tr>\n",
       "    <tr>\n",
       "      <th>3</th>\n",
       "      <td>11.42</td>\n",
       "      <td>20.38</td>\n",
       "      <td>77.58</td>\n",
       "      <td>386.1</td>\n",
       "      <td>0.14250</td>\n",
       "      <td>0.28390</td>\n",
       "      <td>0.2414</td>\n",
       "      <td>0.10520</td>\n",
       "      <td>0.2597</td>\n",
       "      <td>0.09744</td>\n",
       "      <td>...</td>\n",
       "      <td>26.50</td>\n",
       "      <td>98.87</td>\n",
       "      <td>567.7</td>\n",
       "      <td>0.2098</td>\n",
       "      <td>0.8663</td>\n",
       "      <td>0.6869</td>\n",
       "      <td>0.2575</td>\n",
       "      <td>0.6638</td>\n",
       "      <td>0.17300</td>\n",
       "      <td>0</td>\n",
       "    </tr>\n",
       "    <tr>\n",
       "      <th>4</th>\n",
       "      <td>20.29</td>\n",
       "      <td>14.34</td>\n",
       "      <td>135.10</td>\n",
       "      <td>1297.0</td>\n",
       "      <td>0.10030</td>\n",
       "      <td>0.13280</td>\n",
       "      <td>0.1980</td>\n",
       "      <td>0.10430</td>\n",
       "      <td>0.1809</td>\n",
       "      <td>0.05883</td>\n",
       "      <td>...</td>\n",
       "      <td>16.67</td>\n",
       "      <td>152.20</td>\n",
       "      <td>1575.0</td>\n",
       "      <td>0.1374</td>\n",
       "      <td>0.2050</td>\n",
       "      <td>0.4000</td>\n",
       "      <td>0.1625</td>\n",
       "      <td>0.2364</td>\n",
       "      <td>0.07678</td>\n",
       "      <td>0</td>\n",
       "    </tr>\n",
       "  </tbody>\n",
       "</table>\n",
       "<p>5 rows × 31 columns</p>\n",
       "</div>"
      ],
      "text/plain": [
       "   mean radius  mean texture  mean perimeter  mean area  mean smoothness  \\\n",
       "0        17.99         10.38          122.80     1001.0          0.11840   \n",
       "1        20.57         17.77          132.90     1326.0          0.08474   \n",
       "2        19.69         21.25          130.00     1203.0          0.10960   \n",
       "3        11.42         20.38           77.58      386.1          0.14250   \n",
       "4        20.29         14.34          135.10     1297.0          0.10030   \n",
       "\n",
       "   mean compactness  mean concavity  mean concave points  mean symmetry  \\\n",
       "0           0.27760          0.3001              0.14710         0.2419   \n",
       "1           0.07864          0.0869              0.07017         0.1812   \n",
       "2           0.15990          0.1974              0.12790         0.2069   \n",
       "3           0.28390          0.2414              0.10520         0.2597   \n",
       "4           0.13280          0.1980              0.10430         0.1809   \n",
       "\n",
       "   mean fractal dimension  ...  worst texture  worst perimeter  worst area  \\\n",
       "0                 0.07871  ...          17.33           184.60      2019.0   \n",
       "1                 0.05667  ...          23.41           158.80      1956.0   \n",
       "2                 0.05999  ...          25.53           152.50      1709.0   \n",
       "3                 0.09744  ...          26.50            98.87       567.7   \n",
       "4                 0.05883  ...          16.67           152.20      1575.0   \n",
       "\n",
       "   worst smoothness  worst compactness  worst concavity  worst concave points  \\\n",
       "0            0.1622             0.6656           0.7119                0.2654   \n",
       "1            0.1238             0.1866           0.2416                0.1860   \n",
       "2            0.1444             0.4245           0.4504                0.2430   \n",
       "3            0.2098             0.8663           0.6869                0.2575   \n",
       "4            0.1374             0.2050           0.4000                0.1625   \n",
       "\n",
       "   worst symmetry  worst fractal dimension  target  \n",
       "0          0.4601                  0.11890       0  \n",
       "1          0.2750                  0.08902       0  \n",
       "2          0.3613                  0.08758       0  \n",
       "3          0.6638                  0.17300       0  \n",
       "4          0.2364                  0.07678       0  \n",
       "\n",
       "[5 rows x 31 columns]"
      ]
     },
     "execution_count": 6,
     "metadata": {},
     "output_type": "execute_result"
    }
   ],
   "source": [
    "gen_data_run.outputs()[\"dataset\"].as_df().head()"
   ]
  },
  {
   "cell_type": "code",
   "execution_count": 7,
   "id": "2c9bcf5c-fe70-415d-93a2-39288e1f79a8",
   "metadata": {},
   "outputs": [
    {
     "name": "stdout",
     "output_type": "stream",
     "text": [
      "Writing train-model.py\n"
     ]
    }
   ],
   "source": [
    "%%writefile train-model.py\n",
    "\n",
    "import pandas as pd\n",
    "from sklearn.datasets import load_breast_cancer\n",
    "from sklearn.model_selection import train_test_split\n",
    "\n",
    "from digitalhub_runtime_python import handler\n",
    "from sklearn.svm import SVC \n",
    "from pickle import dump\n",
    "import sklearn.metrics\n",
    "import os\n",
    "\n",
    "@handler(outputs=[\"dataset\"])\n",
    "def train(project, di):\n",
    "\n",
    "    df_cancer = di.as_df()\n",
    "    X = df_cancer.drop(['target'],axis=1)\n",
    "    y = df_cancer['target']\n",
    "    X_train, X_test, y_train, y_test = train_test_split(X, y, test_size = 0.20, random_state=5)\n",
    "    svc_model = SVC()\n",
    "    svc_model.fit(X_train, y_train)\n",
    "    y_predict = svc_model.predict(X_test)\n",
    "    \n",
    "    if not os.path.exists(\"model\"):\n",
    "        os.makedirs(\"model\")\n",
    "    \n",
    "    with open(\"model/cancer_classifier.pkl\", \"wb\") as f:\n",
    "        dump(svc_model, f, protocol=5)\n",
    "\n",
    "    metrics = {\n",
    "        \"f1_score\": sklearn.metrics.f1_score(y_test, y_predict),\n",
    "        \"accuracy\": sklearn.metrics.accuracy_score(y_test, y_predict),\n",
    "        \"precision\": sklearn.metrics.precision_score(y_test, y_predict),\n",
    "        \"recall\": sklearn.metrics.recall_score(y_test, y_predict),\n",
    "    }\n",
    "    project.log_model(\n",
    "            name=\"cancer_classifier\", \n",
    "            kind=\"sklearn\", \n",
    "            source=\"./model/\", \n",
    "            metrics=metrics\n",
    "    )"
   ]
  },
  {
   "cell_type": "code",
   "execution_count": 8,
   "id": "7bc79105-ff96-4902-89de-e3d7361c9b1f",
   "metadata": {},
   "outputs": [],
   "source": [
    "train_fn = project.new_function(\n",
    "                         name=\"train\",\n",
    "                         kind=\"python\",\n",
    "                         python_version=\"PYTHON3_9\",\n",
    "                         source={\"source\": \"train-model.py\", \"handler\": \"train\"},\n",
    "                         requirements=[\"scikit-learn==1.2.2\"])"
   ]
  },
  {
   "cell_type": "code",
   "execution_count": 9,
   "id": "a1521131-f4c4-4bf0-8b41-248fc2ba8abb",
   "metadata": {},
   "outputs": [],
   "source": [
    "train_run = train_fn.run(action=\"job\", inputs={\"di\": gen_data_run.outputs()[\"dataset\"].key}, local_execution=False)"
   ]
  },
  {
   "cell_type": "code",
   "execution_count": 10,
   "id": "03efb1fc-d949-479c-a0cc-d3edbee84327",
   "metadata": {},
   "outputs": [
    {
     "data": {
      "text/plain": [
       "'s3://datalake/demo-ml/model/cancer_classifier/28014f5d-7c2a-44ee-848a-0343b118d046/'"
      ]
     },
     "execution_count": 10,
     "metadata": {},
     "output_type": "execute_result"
    }
   ],
   "source": [
    "model = project.get_model(\"cancer_classifier\")\n",
    "model.spec.path"
   ]
  },
  {
   "cell_type": "code",
   "execution_count": 11,
   "id": "2dfdc1c7-048b-4397-92ff-ac7cf5087a5a",
   "metadata": {},
   "outputs": [],
   "source": [
    "func = project.new_function(name=\"serve_sklearnmodel\",\n",
    "                            kind=\"sklearnserve\",\n",
    "                            path=model.spec.path)\n",
    "\n",
    "serve_run = func.run(action=\"serve\")"
   ]
  },
  {
   "cell_type": "code",
   "execution_count": 14,
   "id": "457eefd1-43d4-4599-b642-bb248eca4803",
   "metadata": {},
   "outputs": [],
   "source": [
    "SERVICE_URL = serve_run.refresh().status.to_dict()[\"service\"][\"url\"]"
   ]
  },
  {
   "cell_type": "code",
   "execution_count": 15,
   "id": "8d54a72a-d382-442a-a786-870942aeef80",
   "metadata": {},
   "outputs": [],
   "source": [
    "from sklearn.model_selection import train_test_split\n",
    "\n",
    "df_cancer = gen_data_run.outputs()[\"dataset\"].as_df()\n",
    "X = df_cancer.drop(['target'],axis=1)\n",
    "y = df_cancer['target']\n",
    "\n",
    "X_train, X_test, y_train, y_test = train_test_split(X, y, test_size = 0.20, random_state=5)\n",
    "test_input = X_test.head(2).to_numpy().tolist()"
   ]
  },
  {
   "cell_type": "code",
   "execution_count": 16,
   "id": "65c112db-518d-468d-872a-0ba9b1ad2e6a",
   "metadata": {},
   "outputs": [
    {
     "name": "stdout",
     "output_type": "stream",
     "text": [
      "{'model_name': 'model', 'model_version': None, 'id': 'd4890b36-3f62-485f-880f-021263a1c8c2', 'parameters': None, 'outputs': [{'name': 'output-0', 'shape': [2], 'datatype': 'INT64', 'parameters': None, 'data': [0, 1]}]}\n"
     ]
    }
   ],
   "source": [
    "from sklearn.model_selection import train_test_split\n",
    "\n",
    "df_cancer = gen_data_run.outputs()[\"dataset\"].as_df()\n",
    "X = df_cancer.drop(['target'],axis=1)\n",
    "y = df_cancer['target']\n",
    "\n",
    "X_train, X_test, y_train, y_test = train_test_split(X, y, test_size = 0.20, random_state=5)\n",
    "\n",
    "import requests\n",
    "\n",
    "with requests.post(f'http://{SERVICE_URL}/v2/models/model/infer', json={\"inputs\": [\n",
    "    {\n",
    "      \"name\": \"input-0\",\n",
    "      \"shape\": [2, 30],\n",
    "      \"datatype\": \"FP32\",\n",
    "      \"data\": test_input\n",
    "    }\n",
    "  ]}) as r:\n",
    "    res = r.json()\n",
    "print(res)\n"
   ]
  }
 ],
 "metadata": {
  "kernelspec": {
   "display_name": "Python 3 (ipykernel)",
   "language": "python",
   "name": "python3"
  },
  "language_info": {
   "codemirror_mode": {
    "name": "ipython",
    "version": 3
   },
   "file_extension": ".py",
   "mimetype": "text/x-python",
   "name": "python",
   "nbconvert_exporter": "python",
   "pygments_lexer": "ipython3",
   "version": "3.9.13"
  }
 },
 "nbformat": 4,
 "nbformat_minor": 5
}

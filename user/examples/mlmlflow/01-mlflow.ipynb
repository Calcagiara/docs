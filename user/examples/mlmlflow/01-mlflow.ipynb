{
 "cells": [
  {
   "cell_type": "code",
   "execution_count": 1,
   "id": "30c130a1-a372-4866-b3e0-dfb968f09c5f",
   "metadata": {
    "collapsed": true,
    "jupyter": {
     "outputs_hidden": true
    },
    "tags": []
   },
   "outputs": [
    {
     "name": "stdout",
     "output_type": "stream",
     "text": [
      "Requirement already satisfied: mlflow in /opt/conda/lib/python3.9/site-packages (2.15.1)\n",
      "Requirement already satisfied: scikit-learn==1.5.0 in /opt/conda/lib/python3.9/site-packages (1.5.0)\n",
      "Requirement already satisfied: scipy>=1.6.0 in /opt/conda/lib/python3.9/site-packages (from scikit-learn==1.5.0) (1.9.1)\n",
      "Requirement already satisfied: numpy>=1.19.5 in /opt/conda/lib/python3.9/site-packages (from scikit-learn==1.5.0) (1.23.3)\n",
      "Requirement already satisfied: joblib>=1.2.0 in /opt/conda/lib/python3.9/site-packages (from scikit-learn==1.5.0) (1.2.0)\n",
      "Requirement already satisfied: threadpoolctl>=3.1.0 in /opt/conda/lib/python3.9/site-packages (from scikit-learn==1.5.0) (3.1.0)\n",
      "Requirement already satisfied: matplotlib<4 in /opt/conda/lib/python3.9/site-packages (from mlflow) (3.6.0)\n",
      "Requirement already satisfied: querystring-parser<2 in /opt/conda/lib/python3.9/site-packages (from mlflow) (1.2.4)\n",
      "Requirement already satisfied: markdown<4,>=3.3 in /opt/conda/lib/python3.9/site-packages (from mlflow) (3.7)\n",
      "Requirement already satisfied: pyarrow<16,>=4.0.0 in /opt/conda/lib/python3.9/site-packages (from mlflow) (14.0.2)\n",
      "Requirement already satisfied: pandas<3 in /opt/conda/lib/python3.9/site-packages (from mlflow) (1.5.0)\n",
      "Requirement already satisfied: Jinja2<4,>=2.11 in /opt/conda/lib/python3.9/site-packages (from mlflow) (3.1.2)\n",
      "Requirement already satisfied: alembic!=1.10.0,<2 in /opt/conda/lib/python3.9/site-packages (from mlflow) (1.8.1)\n",
      "Requirement already satisfied: Flask<4 in /opt/conda/lib/python3.9/site-packages (from mlflow) (3.0.3)\n",
      "Requirement already satisfied: mlflow-skinny==2.15.1 in /opt/conda/lib/python3.9/site-packages (from mlflow) (2.15.1)\n",
      "Requirement already satisfied: docker<8,>=4.0.0 in /opt/conda/lib/python3.9/site-packages (from mlflow) (7.1.0)\n",
      "Requirement already satisfied: gunicorn<23 in /opt/conda/lib/python3.9/site-packages (from mlflow) (22.0.0)\n",
      "Requirement already satisfied: graphene<4 in /opt/conda/lib/python3.9/site-packages (from mlflow) (3.3)\n",
      "Requirement already satisfied: sqlalchemy<3,>=1.4.0 in /opt/conda/lib/python3.9/site-packages (from mlflow) (1.4.41)\n",
      "Requirement already satisfied: cachetools<6,>=5.0.0 in /opt/conda/lib/python3.9/site-packages (from mlflow-skinny==2.15.1->mlflow) (5.5.0)\n",
      "Requirement already satisfied: opentelemetry-api<3,>=1.9.0 in /opt/conda/lib/python3.9/site-packages (from mlflow-skinny==2.15.1->mlflow) (1.26.0)\n",
      "Requirement already satisfied: requests<3,>=2.17.3 in /opt/conda/lib/python3.9/site-packages (from mlflow-skinny==2.15.1->mlflow) (2.32.3)\n",
      "Requirement already satisfied: gitpython<4,>=3.1.9 in /opt/conda/lib/python3.9/site-packages (from mlflow-skinny==2.15.1->mlflow) (3.1.43)\n",
      "Requirement already satisfied: databricks-sdk<1,>=0.20.0 in /opt/conda/lib/python3.9/site-packages (from mlflow-skinny==2.15.1->mlflow) (0.30.0)\n",
      "Requirement already satisfied: click<9,>=7.0 in /opt/conda/lib/python3.9/site-packages (from mlflow-skinny==2.15.1->mlflow) (8.1.3)\n",
      "Requirement already satisfied: packaging<25 in /opt/conda/lib/python3.9/site-packages (from mlflow-skinny==2.15.1->mlflow) (21.3)\n",
      "Requirement already satisfied: protobuf<6,>=3.12.0 in /opt/conda/lib/python3.9/site-packages (from mlflow-skinny==2.15.1->mlflow) (4.21.7)\n",
      "Requirement already satisfied: opentelemetry-sdk<3,>=1.9.0 in /opt/conda/lib/python3.9/site-packages (from mlflow-skinny==2.15.1->mlflow) (1.26.0)\n",
      "Requirement already satisfied: pyyaml<7,>=5.1 in /opt/conda/lib/python3.9/site-packages (from mlflow-skinny==2.15.1->mlflow) (6.0)\n",
      "Requirement already satisfied: sqlparse<1,>=0.4.0 in /opt/conda/lib/python3.9/site-packages (from mlflow-skinny==2.15.1->mlflow) (0.4.4)\n",
      "Requirement already satisfied: entrypoints<1 in /opt/conda/lib/python3.9/site-packages (from mlflow-skinny==2.15.1->mlflow) (0.4)\n",
      "Requirement already satisfied: importlib-metadata!=4.7.0,<8,>=3.7.0 in /opt/conda/lib/python3.9/site-packages (from mlflow-skinny==2.15.1->mlflow) (6.11.0)\n",
      "Requirement already satisfied: cloudpickle<4 in /opt/conda/lib/python3.9/site-packages (from mlflow-skinny==2.15.1->mlflow) (2.2.0)\n",
      "Requirement already satisfied: pytz<2025 in /opt/conda/lib/python3.9/site-packages (from mlflow-skinny==2.15.1->mlflow) (2022.4)\n",
      "Requirement already satisfied: Mako in /opt/conda/lib/python3.9/site-packages (from alembic!=1.10.0,<2->mlflow) (1.2.3)\n",
      "Requirement already satisfied: urllib3>=1.26.0 in /opt/conda/lib/python3.9/site-packages (from docker<8,>=4.0.0->mlflow) (1.26.11)\n",
      "Requirement already satisfied: Werkzeug>=3.0.0 in /opt/conda/lib/python3.9/site-packages (from Flask<4->mlflow) (3.0.4)\n",
      "Requirement already satisfied: itsdangerous>=2.1.2 in /opt/conda/lib/python3.9/site-packages (from Flask<4->mlflow) (2.2.0)\n",
      "Requirement already satisfied: blinker>=1.6.2 in /opt/conda/lib/python3.9/site-packages (from Flask<4->mlflow) (1.8.2)\n",
      "Requirement already satisfied: graphql-core<3.3,>=3.1 in /opt/conda/lib/python3.9/site-packages (from graphene<4->mlflow) (3.2.3)\n",
      "Requirement already satisfied: aniso8601<10,>=8 in /opt/conda/lib/python3.9/site-packages (from graphene<4->mlflow) (9.0.1)\n",
      "Requirement already satisfied: graphql-relay<3.3,>=3.1 in /opt/conda/lib/python3.9/site-packages (from graphene<4->mlflow) (3.2.0)\n",
      "Requirement already satisfied: MarkupSafe>=2.0 in /opt/conda/lib/python3.9/site-packages (from Jinja2<4,>=2.11->mlflow) (2.1.1)\n",
      "Requirement already satisfied: fonttools>=4.22.0 in /opt/conda/lib/python3.9/site-packages (from matplotlib<4->mlflow) (4.37.4)\n",
      "Requirement already satisfied: kiwisolver>=1.0.1 in /opt/conda/lib/python3.9/site-packages (from matplotlib<4->mlflow) (1.4.4)\n",
      "Requirement already satisfied: pillow>=6.2.0 in /opt/conda/lib/python3.9/site-packages (from matplotlib<4->mlflow) (9.2.0)\n",
      "Requirement already satisfied: cycler>=0.10 in /opt/conda/lib/python3.9/site-packages (from matplotlib<4->mlflow) (0.11.0)\n",
      "Requirement already satisfied: python-dateutil>=2.7 in /opt/conda/lib/python3.9/site-packages (from matplotlib<4->mlflow) (2.8.2)\n",
      "Requirement already satisfied: contourpy>=1.0.1 in /opt/conda/lib/python3.9/site-packages (from matplotlib<4->mlflow) (1.0.5)\n",
      "Requirement already satisfied: pyparsing>=2.2.1 in /opt/conda/lib/python3.9/site-packages (from matplotlib<4->mlflow) (3.0.9)\n",
      "Requirement already satisfied: six in /opt/conda/lib/python3.9/site-packages (from querystring-parser<2->mlflow) (1.16.0)\n",
      "Requirement already satisfied: greenlet!=0.4.17 in /opt/conda/lib/python3.9/site-packages (from sqlalchemy<3,>=1.4.0->mlflow) (1.1.3)\n",
      "Requirement already satisfied: google-auth~=2.0 in /opt/conda/lib/python3.9/site-packages (from databricks-sdk<1,>=0.20.0->mlflow-skinny==2.15.1->mlflow) (2.34.0)\n",
      "Requirement already satisfied: gitdb<5,>=4.0.1 in /opt/conda/lib/python3.9/site-packages (from gitpython<4,>=3.1.9->mlflow-skinny==2.15.1->mlflow) (4.0.11)\n",
      "Requirement already satisfied: zipp>=0.5 in /opt/conda/lib/python3.9/site-packages (from importlib-metadata!=4.7.0,<8,>=3.7.0->mlflow-skinny==2.15.1->mlflow) (3.9.0)\n",
      "Requirement already satisfied: deprecated>=1.2.6 in /opt/conda/lib/python3.9/site-packages (from opentelemetry-api<3,>=1.9.0->mlflow-skinny==2.15.1->mlflow) (1.2.14)\n",
      "Requirement already satisfied: opentelemetry-semantic-conventions==0.47b0 in /opt/conda/lib/python3.9/site-packages (from opentelemetry-sdk<3,>=1.9.0->mlflow-skinny==2.15.1->mlflow) (0.47b0)\n",
      "Requirement already satisfied: typing-extensions>=3.7.4 in /opt/conda/lib/python3.9/site-packages (from opentelemetry-sdk<3,>=1.9.0->mlflow-skinny==2.15.1->mlflow) (4.4.0)\n",
      "Requirement already satisfied: idna<4,>=2.5 in /opt/conda/lib/python3.9/site-packages (from requests<3,>=2.17.3->mlflow-skinny==2.15.1->mlflow) (3.4)\n",
      "Requirement already satisfied: charset-normalizer<4,>=2 in /opt/conda/lib/python3.9/site-packages (from requests<3,>=2.17.3->mlflow-skinny==2.15.1->mlflow) (2.1.1)\n",
      "Requirement already satisfied: certifi>=2017.4.17 in /opt/conda/lib/python3.9/site-packages (from requests<3,>=2.17.3->mlflow-skinny==2.15.1->mlflow) (2022.9.24)\n",
      "Requirement already satisfied: wrapt<2,>=1.10 in /opt/conda/lib/python3.9/site-packages (from deprecated>=1.2.6->opentelemetry-api<3,>=1.9.0->mlflow-skinny==2.15.1->mlflow) (1.16.0)\n",
      "Requirement already satisfied: smmap<6,>=3.0.1 in /opt/conda/lib/python3.9/site-packages (from gitdb<5,>=4.0.1->gitpython<4,>=3.1.9->mlflow-skinny==2.15.1->mlflow) (5.0.1)\n",
      "Requirement already satisfied: rsa<5,>=3.1.4 in /opt/conda/lib/python3.9/site-packages (from google-auth~=2.0->databricks-sdk<1,>=0.20.0->mlflow-skinny==2.15.1->mlflow) (4.9)\n",
      "Requirement already satisfied: pyasn1-modules>=0.2.1 in /opt/conda/lib/python3.9/site-packages (from google-auth~=2.0->databricks-sdk<1,>=0.20.0->mlflow-skinny==2.15.1->mlflow) (0.4.0)\n",
      "Requirement already satisfied: pyasn1<0.7.0,>=0.4.6 in /opt/conda/lib/python3.9/site-packages (from pyasn1-modules>=0.2.1->google-auth~=2.0->databricks-sdk<1,>=0.20.0->mlflow-skinny==2.15.1->mlflow) (0.6.0)\n",
      "Note: you may need to restart the kernel to use updated packages.\n"
     ]
    }
   ],
   "source": [
    "%pip install mlflow scikit-learn==1.5.0"
   ]
  },
  {
   "cell_type": "code",
   "execution_count": 2,
   "id": "6af0bb54-f0db-4aaa-bb52-04531afe33c5",
   "metadata": {},
   "outputs": [],
   "source": [
    "import digitalhub as dh\n",
    "import pandas as pd\n",
    "import os"
   ]
  },
  {
   "cell_type": "code",
   "execution_count": 3,
   "id": "59047216-f1a2-4482-b729-359d407a22e4",
   "metadata": {},
   "outputs": [],
   "source": [
    "PROJECT = \"demo-ml\"\n",
    "project = dh.get_or_create_project(PROJECT)"
   ]
  },
  {
   "cell_type": "code",
   "execution_count": 4,
   "id": "2cd2dc35-8fa8-4f4f-a2ed-0e2eb1997171",
   "metadata": {},
   "outputs": [
    {
     "name": "stdout",
     "output_type": "stream",
     "text": [
      "Overwriting train-model.py\n"
     ]
    }
   ],
   "source": [
    "%%writefile train-model.py\n",
    "\n",
    "from digitalhub_runtime_python import handler\n",
    "\n",
    "from digitalhub_ml.entities.utils import from_mlflow_run\n",
    "import mlflow\n",
    "\n",
    "from sklearn import datasets, svm\n",
    "from sklearn.model_selection import GridSearchCV\n",
    "\n",
    "@handler()\n",
    "def train(project):\n",
    "    mlflow.sklearn.autolog(log_datasets=True)\n",
    "\n",
    "    iris = datasets.load_iris()\n",
    "    parameters = {\"kernel\": (\"linear\", \"rbf\"), \"C\": [1, 10]}\n",
    "    svc = svm.SVC()\n",
    "    clf = GridSearchCV(svc, parameters)\n",
    "\n",
    "    clf.fit(iris.data, iris.target)\n",
    "    run_id = mlflow.last_active_run().info.run_id\n",
    "\n",
    "    # utility to map mlflow run artifacts to model metadata\n",
    "    model_params = from_mlflow_run(run_id)\n",
    "    \n",
    "    project.log_model(\n",
    "        name=\"model-mlflow\",\n",
    "        kind=\"mlflow\",\n",
    "        **model_params\n",
    ")"
   ]
  },
  {
   "cell_type": "code",
   "execution_count": 5,
   "id": "c60c4e6f-fe0f-4c65-ad3a-a3d770ca994c",
   "metadata": {},
   "outputs": [],
   "source": [
    "train_fn = project.new_function(\n",
    "                         name=\"train\",\n",
    "                         kind=\"python\",\n",
    "                         python_version=\"PYTHON3_9\",\n",
    "                         source={\"source\": \"train-model.py\", \"handler\": \"train\"},\n",
    "                         requirements=[\"scikit-learn==1.5.0\", \"mlflow==2.15.1\"])"
   ]
  },
  {
   "cell_type": "code",
   "execution_count": 6,
   "id": "2c530c23-9189-4c96-b261-8eccabbd37e7",
   "metadata": {},
   "outputs": [],
   "source": [
    "train_run = train_fn.run(action=\"job\", local_execution=False)"
   ]
  },
  {
   "cell_type": "code",
   "execution_count": 7,
   "id": "83c15a39-1cfa-43fe-b540-96b506304b3b",
   "metadata": {},
   "outputs": [
    {
     "data": {
      "text/plain": [
       "'s3://datalake/demo-ml/model/model-mlflow/1283563a-23a6-4c12-9113-e77014519944/'"
      ]
     },
     "execution_count": 7,
     "metadata": {},
     "output_type": "execute_result"
    }
   ],
   "source": [
    "model = project.get_model(\"model-mlflow\")\n",
    "model.spec.path"
   ]
  },
  {
   "cell_type": "code",
   "execution_count": 8,
   "id": "a8dbe6ec-84b5-4c83-ace1-b223ecd03367",
   "metadata": {},
   "outputs": [],
   "source": [
    "func = project.new_function(name=\"serve_mlflowmodel\",\n",
    "                            kind=\"mlflowserve\",\n",
    "                            model_name=\"testmodel\",\n",
    "                            path=model.spec.path + 'model')\n",
    "\n",
    "serve_run = func.run(action=\"serve\")"
   ]
  },
  {
   "cell_type": "code",
   "execution_count": 10,
   "id": "0a679d3c-f217-413e-bb66-75728fa3d66f",
   "metadata": {},
   "outputs": [],
   "source": [
    "SERVICE_URL = serve_run.refresh().status.to_dict()[\"service\"][\"url\"]\n",
    "MODEL_NAME = \"testmodel\""
   ]
  },
  {
   "cell_type": "code",
   "execution_count": 11,
   "id": "7342eeee-422d-4c70-980d-7e3e219b89ef",
   "metadata": {},
   "outputs": [
    {
     "data": {
      "text/plain": [
       "[[5.1, 3.5, 1.4, 0.2], [4.9, 3.0, 1.4, 0.2]]"
      ]
     },
     "execution_count": 11,
     "metadata": {},
     "output_type": "execute_result"
    }
   ],
   "source": [
    "from sklearn import datasets\n",
    "\n",
    "iris = datasets.load_iris()\n",
    "test_input = iris.data[0:2].tolist()\n",
    "test_input"
   ]
  },
  {
   "cell_type": "code",
   "execution_count": 12,
   "id": "3f7c3233-7988-4f08-a300-d9bcf09ddc45",
   "metadata": {},
   "outputs": [
    {
     "name": "stdout",
     "output_type": "stream",
     "text": [
      "{'model_name': 'testmodel', 'id': '8632b95d-5eb3-47c3-a6f3-a6a7a416be95', 'parameters': {'content_type': 'np'}, 'outputs': [{'name': 'output-1', 'shape': [2, 1], 'datatype': 'INT64', 'parameters': {'content_type': 'np'}, 'data': [0, 0]}]}\n"
     ]
    }
   ],
   "source": [
    "import requests\n",
    "\n",
    "with requests.post(f'http://{SERVICE_URL}/v2/models/{MODEL_NAME}/infer', json={\n",
    "    \"inputs\": [\n",
    "        {\n",
    "        \"name\": \"input-0\",\n",
    "        \"shape\": [2, 4],\n",
    "        \"datatype\": \"FP64\",\n",
    "        \"data\": test_input\n",
    "        }\n",
    "    ]\n",
    "}) as r:\n",
    "    res = r.json()\n",
    "print(res)"
   ]
  }
 ],
 "metadata": {
  "kernelspec": {
   "display_name": "Python 3 (ipykernel)",
   "language": "python",
   "name": "python3"
  },
  "language_info": {
   "codemirror_mode": {
    "name": "ipython",
    "version": 3
   },
   "file_extension": ".py",
   "mimetype": "text/x-python",
   "name": "python",
   "nbconvert_exporter": "python",
   "pygments_lexer": "ipython3",
   "version": "3.9.13"
  }
 },
 "nbformat": 4,
 "nbformat_minor": 5
}

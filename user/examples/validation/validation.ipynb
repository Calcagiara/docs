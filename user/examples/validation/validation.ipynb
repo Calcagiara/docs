{
 "cells": [
  {
   "cell_type": "code",
   "execution_count": null,
   "id": "649ec6ad-16d2-4d5b-9506-665c42eb71c8",
   "metadata": {},
   "outputs": [],
   "source": [
    "import digitalhub_core as dhcore\n"
   ]
  },
  {
   "attachments": {},
   "cell_type": "markdown",
   "id": "fb94bedc",
   "metadata": {},
   "source": [
    "# Project"
   ]
  },
  {
   "cell_type": "code",
   "execution_count": null,
   "id": "83d09bb0-c237-4137-9ea7-e18f0deb45d8",
   "metadata": {},
   "outputs": [],
   "source": [
    "# initialize project and sync to local/db\n",
    "project = dhcore.get_or_create_project(\"project-nefertem\")\n",
    "print(project)\n"
   ]
  },
  {
   "attachments": {},
   "cell_type": "markdown",
   "id": "07620930-1a77-4fc7-b81a-43a041bfb7cc",
   "metadata": {},
   "source": [
    "# Input Dataitem"
   ]
  },
  {
   "cell_type": "code",
   "execution_count": null,
   "id": "fe89aee9-ee3f-4e74-9c5b-b9bbb89dfd4e",
   "metadata": {},
   "outputs": [],
   "source": [
    "url = \"https://media.githubusercontent.com/media/datablist/sample-csv-files/main/files/organizations/organizations-1000.csv\"\n",
    "di = project.new_dataitem(name=\"organizations\",\n",
    "                          kind=\"dataitem\",\n",
    "                          path=url)\n"
   ]
  },
  {
   "attachments": {},
   "cell_type": "markdown",
   "id": "10ddd9eb-b188-46d2-a178-be901aa64d85",
   "metadata": {},
   "source": [
    "# Function"
   ]
  },
  {
   "cell_type": "code",
   "execution_count": null,
   "id": "a26a3fce",
   "metadata": {},
   "outputs": [],
   "source": [
    "constraint = {\n",
    "  'constraint': 'type',\n",
    "  'field': 'Country',\n",
    "  'field_type': 'string',\n",
    "  'name': 'check_country_string',\n",
    "  'resources': ['organizations'],\n",
    "  'title': '',\n",
    "  'type': 'frictionless',\n",
    "  'value': 'string',\n",
    "  'weight': 5\n",
    "}\n",
    "function = project.new_function(name=\"function-nefertem\",\n",
    "                                kind=\"nefertem\",\n",
    "                                constraints=[constraint])\n"
   ]
  },
  {
   "attachments": {},
   "cell_type": "markdown",
   "id": "385ccbf9-1532-4cb8-94e0-64b556cd441d",
   "metadata": {},
   "source": [
    "# Run Function"
   ]
  },
  {
   "cell_type": "code",
   "execution_count": null,
   "id": "d1d86852-f39c-4425-922a-18b478f29323",
   "metadata": {},
   "outputs": [],
   "source": [
    "nefertem_run_config = {\n",
    "        \"operation\": \"validation\",\n",
    "        \"exec_config\": [{\"framework\": \"frictionless\"}]\n",
    "}\n",
    "run = function.run(\"validate\",\n",
    "                   run_config=nefertem_run_config,\n",
    "                   inputs={\"dataitems\": [\"organizations\"]})\n"
   ]
  },
  {
   "cell_type": "markdown",
   "metadata": {},
   "source": [
    "# Refresh run"
   ]
  },
  {
   "cell_type": "code",
   "execution_count": null,
   "metadata": {},
   "outputs": [],
   "source": [
    "print(run.refresh().status)\n"
   ]
  },
  {
   "attachments": {},
   "cell_type": "markdown",
   "id": "35b244fd",
   "metadata": {},
   "source": [
    "# Export Artifacts"
   ]
  },
  {
   "cell_type": "code",
   "execution_count": null,
   "id": "c4561074",
   "metadata": {},
   "outputs": [],
   "source": [
    "artifacts = run.get_artifacts()\n",
    "\n",
    "for artifact in artifacts:\n",
    "    artifact.download()\n",
    "\n",
    "filepath = f\"project-nefertem/artifacts/artifact/run_metadata.json\"\n",
    "\n",
    "with open(filepath) as f:\n",
    "    print(f.read())\n"
   ]
  }
 ],
 "metadata": {
  "kernelspec": {
   "display_name": "Python 3",
   "language": "python",
   "name": "python3"
  },
  "language_info": {
   "codemirror_mode": {
    "name": "ipython",
    "version": 3
   },
   "file_extension": ".py",
   "mimetype": "text/x-python",
   "name": "python",
   "nbconvert_exporter": "python",
   "pygments_lexer": "ipython3",
   "version": "3.10.6"
  }
 },
 "nbformat": 4,
 "nbformat_minor": 5
}

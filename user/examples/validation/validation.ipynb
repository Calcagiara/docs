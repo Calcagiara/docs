{
 "cells": [
  {
   "cell_type": "code",
   "execution_count": null,
   "id": "649ec6ad-16d2-4d5b-9506-665c42eb71c8",
   "metadata": {},
   "outputs": [],
   "source": [
    "import digitalhub as dh\n"
   ]
  },
  {
   "attachments": {},
   "cell_type": "markdown",
   "id": "fb94bedc",
   "metadata": {},
   "source": [
    "# Project"
   ]
  },
  {
   "cell_type": "code",
   "execution_count": null,
   "id": "83d09bb0-c237-4137-9ea7-e18f0deb45d8",
   "metadata": {},
   "outputs": [],
   "source": [
    "# initialize project\n",
    "project = dh.get_or_create_project(\"project-nefertem\")\n",
    "project.to_dict()\n"
   ]
  },
  {
   "attachments": {},
   "cell_type": "markdown",
   "id": "07620930-1a77-4fc7-b81a-43a041bfb7cc",
   "metadata": {},
   "source": [
    "# Input Dataitem"
   ]
  },
  {
   "cell_type": "code",
   "execution_count": null,
   "id": "fe89aee9-ee3f-4e74-9c5b-b9bbb89dfd4e",
   "metadata": {},
   "outputs": [],
   "source": [
    "# Create dataitem\n",
    "url = \"https://gist.githubusercontent.com/kevin336/acbb2271e66c10a5b73aacf82ca82784/raw/e38afe62e088394d61ed30884dd50a6826eee0a8/employees.csv\"\n",
    "di = project.new_dataitem(name=\"employees\",\n",
    "                          kind=\"table\",\n",
    "                          path=url)"
   ]
  },
  {
   "attachments": {},
   "cell_type": "markdown",
   "id": "10ddd9eb-b188-46d2-a178-be901aa64d85",
   "metadata": {},
   "source": [
    "# Function"
   ]
  },
  {
   "cell_type": "code",
   "execution_count": null,
   "id": "a26a3fce",
   "metadata": {},
   "outputs": [],
   "source": [
    "# Create function\n",
    "constraint = {\n",
    "  'constraint': 'type',\n",
    "  'field': 'SALARY',\n",
    "  'field_type': 'number',\n",
    "  'name': 'check_value_integer',\n",
    "  'title': 'some-title',\n",
    "  'resources': ['employees'],\n",
    "  'type': 'frictionless',\n",
    "  'value': 'number',\n",
    "  'weight': 5\n",
    "}\n",
    "function = project.new_function(name=\"function-nefertem\",\n",
    "                                kind=\"nefertem\",\n",
    "                                constraints=[constraint])"
   ]
  },
  {
   "attachments": {},
   "cell_type": "markdown",
   "id": "385ccbf9-1532-4cb8-94e0-64b556cd441d",
   "metadata": {},
   "source": [
    "# Run Function"
   ]
  },
  {
   "cell_type": "code",
   "execution_count": null,
   "id": "d1d86852-f39c-4425-922a-18b478f29323",
   "metadata": {},
   "outputs": [],
   "source": [
    "# Run validate task\n",
    "run = function.run(\"validate\",\n",
    "                   framework=\"frictionless\",\n",
    "                   inputs={\"employees\": di.key})"
   ]
  },
  {
   "cell_type": "markdown",
   "metadata": {},
   "source": [
    "# Refresh run"
   ]
  },
  {
   "cell_type": "code",
   "execution_count": null,
   "metadata": {},
   "outputs": [],
   "source": [
    "# Refresh run\n",
    "run.refresh()"
   ]
  },
  {
   "attachments": {},
   "cell_type": "markdown",
   "id": "35b244fd",
   "metadata": {},
   "source": [
    "# Export Artifacts"
   ]
  },
  {
   "cell_type": "code",
   "execution_count": null,
   "id": "c4561074",
   "metadata": {},
   "outputs": [],
   "source": [
    "path = run.outputs()[\"run-metadata\"].download()\n",
    "\n",
    "with open(path) as f:\n",
    "    print(f.read())\n"
   ]
  }
 ],
 "metadata": {
  "kernelspec": {
   "display_name": "Python 3",
   "language": "python",
   "name": "python3"
  },
  "language_info": {
   "codemirror_mode": {
    "name": "ipython",
    "version": 3
   },
   "file_extension": ".py",
   "mimetype": "text/x-python",
   "name": "python",
   "nbconvert_exporter": "python",
   "pygments_lexer": "ipython3",
   "version": "3.10.6"
  }
 },
 "nbformat": 4,
 "nbformat_minor": 5
}

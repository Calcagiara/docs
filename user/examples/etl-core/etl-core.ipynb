{
 "cells": [
  {
   "cell_type": "code",
   "execution_count": null,
   "id": "649ec6ad-16d2-4d5b-9506-665c42eb71c8",
   "metadata": {},
   "outputs": [],
   "source": [
    "import digitalhub as dh\n"
   ]
  },
  {
   "attachments": {},
   "cell_type": "markdown",
   "id": "fb94bedc",
   "metadata": {},
   "source": [
    "# Project"
   ]
  },
  {
   "cell_type": "code",
   "execution_count": null,
   "id": "83d09bb0-c237-4137-9ea7-e18f0deb45d8",
   "metadata": {},
   "outputs": [],
   "source": [
    "# initialize project and sync to local/db\n",
    "project = dh.get_or_create_project(\"project-dbt\")\n",
    "print(project)\n"
   ]
  },
  {
   "attachments": {},
   "cell_type": "markdown",
   "id": "07620930-1a77-4fc7-b81a-43a041bfb7cc",
   "metadata": {},
   "source": [
    "# Input Dataitem"
   ]
  },
  {
   "cell_type": "code",
   "execution_count": null,
   "id": "fe89aee9-ee3f-4e74-9c5b-b9bbb89dfd4e",
   "metadata": {},
   "outputs": [],
   "source": [
    "url = \"https://gist.githubusercontent.com/kevin336/acbb2271e66c10a5b73aacf82ca82784/raw/e38afe62e088394d61ed30884dd50a6826eee0a8/employees.csv\"\n",
    "di = project.new_dataitem(name=\"employees\",\n",
    "                          kind=\"dataitem\",\n",
    "                          path=url)"
   ]
  },
  {
   "attachments": {},
   "cell_type": "markdown",
   "id": "10ddd9eb-b188-46d2-a178-be901aa64d85",
   "metadata": {},
   "source": [
    "# Function"
   ]
  },
  {
   "cell_type": "code",
   "execution_count": null,
   "id": "a26a3fce",
   "metadata": {},
   "outputs": [],
   "source": [
    "sql = \"\"\"\n",
    "WITH tab AS (\n",
    "    SELECT  *\n",
    "    FROM    {{ ref('employees') }}\n",
    ")\n",
    "SELECT  *\n",
    "FROM    tab\n",
    "WHERE   tab.\"DEPARTMENT_ID\" = '60'\n",
    "\"\"\"\n",
    "function = project.new_function(name=\"function-dbt\",\n",
    "                                kind=\"dbt\",\n",
    "                                sql=sql)"
   ]
  },
  {
   "attachments": {},
   "cell_type": "markdown",
   "id": "385ccbf9-1532-4cb8-94e0-64b556cd441d",
   "metadata": {},
   "source": [
    "# Run Function"
   ]
  },
  {
   "cell_type": "code",
   "execution_count": null,
   "id": "d1d86852-f39c-4425-922a-18b478f29323",
   "metadata": {},
   "outputs": [],
   "source": [
    "run = function.run(\"transform\",\n",
    "                   inputs={\"dataitems\": [\"employees\"]},\n",
    "                   outputs={\"dataitems\": [\"department-60\"]})"
   ]
  },
  {
   "attachments": {},
   "cell_type": "markdown",
   "id": "35b244fd",
   "metadata": {},
   "source": [
    "# Export Dataframe"
   ]
  },
  {
   "cell_type": "code",
   "execution_count": null,
   "id": "c4561074",
   "metadata": {},
   "outputs": [],
   "source": [
    "# Wait job completion, it shouldn't take too long\n",
    "run.refresh()\n",
    "outputs = run.results()\n",
    "out_di = outputs.get_dataitem_by_key(\"department-60\")\n",
    "df = out_di.as_df()\n",
    "df.head()\n"
   ]
  }
 ],
 "metadata": {
  "kernelspec": {
   "display_name": "Python 3",
   "language": "python",
   "name": "python3"
  },
  "language_info": {
   "codemirror_mode": {
    "name": "ipython",
    "version": 3
   },
   "file_extension": ".py",
   "mimetype": "text/x-python",
   "name": "python",
   "nbconvert_exporter": "python",
   "pygments_lexer": "ipython3",
   "version": "3.10.6"
  }
 },
 "nbformat": 4,
 "nbformat_minor": 5
}

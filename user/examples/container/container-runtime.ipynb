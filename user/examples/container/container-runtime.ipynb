{
 "cells": [
  {
   "cell_type": "code",
   "execution_count": null,
   "metadata": {},
   "outputs": [],
   "source": [
    "%%writefile app.py\n",
    "\n",
    "import streamlit as st\n",
    "import pandas as pd\n",
    "import numpy as np\n",
    "import altair as alt\n",
    "\n",
    "# Create a simple DataFrame for demonstration\n",
    "df = pd.DataFrame({\n",
    "    'x': np.random.rand(100),\n",
    "    'y': np.random.rand(100),\n",
    "})\n",
    "\n",
    "# Streamlit app begins here\n",
    "st.title('Streamlit Docker Example')\n",
    "\n",
    "# Display a DataFrame\n",
    "st.write('Displaying a random DataFrame:')\n",
    "st.write(df)\n",
    "\n",
    "# Create an interactive scatter plot using Altair\n",
    "scatter_chart = alt.Chart(df).mark_circle().encode(\n",
    "    x='x',\n",
    "    y='y',\n",
    "    tooltip=['x', 'y']\n",
    ").interactive()\n",
    "\n",
    "# Display the scatter plot\n",
    "st.write('Interactive Scatter Plot:')\n",
    "st.altair_chart(scatter_chart, use_container_width=True)\n",
    "\n"
   ]
  },
  {
   "cell_type": "code",
   "execution_count": null,
   "metadata": {},
   "outputs": [],
   "source": [
    "%%writefile requirements.txt\n",
    "\n",
    "streamlit==0.89.0\n",
    "altair==4.1.0\n",
    "pandas==1.3.3\n",
    "numpy==1.21.2\n",
    "protobuf==3.20.0"
   ]
  },
  {
   "cell_type": "code",
   "execution_count": null,
   "metadata": {},
   "outputs": [],
   "source": [
    "import digitalhub as dh\n",
    "\n",
    "proj = dh.get_or_create_project(\"project-container\")"
   ]
  },
  {
   "cell_type": "code",
   "execution_count": null,
   "metadata": {},
   "outputs": [],
   "source": [
    "# Create function and run\n",
    "function = proj.new_function(name=\"streamlit\",\n",
    "                             kind=\"container\",\n",
    "                             base_image=\"python:3.9-slim\",\n",
    "                             command=\"streamlit\",\n",
    "                             args=[\"run\", \"app.py\", \"--server.fileWatcherType=none\"])"
   ]
  },
  {
   "cell_type": "code",
   "execution_count": null,
   "metadata": {},
   "outputs": [],
   "source": [
    "# Build the container\n",
    "run_build = function.run(action=\"build\",\n",
    "                         code_src=\"app.py\",\n",
    "                         instructions=[\n",
    "                             \"apt-get update\",\n",
    "                             \"apt-get install -y build-essential curl software-properties-common git\",\n",
    "                             \"rm -rf var/lib/apt/lists/*\",\n",
    "                             \"pip3 install -r requirements.txt\"])"
   ]
  },
  {
   "cell_type": "code",
   "execution_count": null,
   "metadata": {},
   "outputs": [],
   "source": [
    "# Wait until run is completed\n",
    "run_build.refresh()"
   ]
  },
  {
   "cell_type": "code",
   "execution_count": null,
   "metadata": {},
   "outputs": [],
   "source": [
    "# Serve the streamlit container\n",
    "run_serve = function.run(\"serve\",\n",
    "                         service_ports= [{\"port\": 8085, \"target_port\": 8501}],\n",
    "                         service_type=\"ClusterIP\")\n",
    "\n",
    "# To access the streamlit container, you need to espose the service with KRM and API Gateway"
   ]
  }
 ],
 "metadata": {
  "language_info": {
   "name": "python"
  }
 },
 "nbformat": 4,
 "nbformat_minor": 2
}
